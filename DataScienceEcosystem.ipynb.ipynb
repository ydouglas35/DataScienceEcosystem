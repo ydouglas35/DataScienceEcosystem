{
 "cells": [
  {
   "cell_type": "markdown",
   "id": "e017093f-1da8-4d8d-a456-413f54081600",
   "metadata": {},
   "source": [
    "# Data Science Tools and Ecosystem"
   ]
  },
  {
   "cell_type": "markdown",
   "id": "a9f10912-130f-41b0-9448-cde03a9e4860",
   "metadata": {},
   "source": [
    "# In this notebook, Data Science Tools and Ecosystem are summarized."
   ]
  },
  {
   "cell_type": "markdown",
   "id": "089ca539-881f-4da3-8244-261621fccaf8",
   "metadata": {},
   "source": [
    "# Some of the popular languages that Data Scientists use are:\n",
    "1. R\n",
    "2. Java\n",
    "3. Python\n",
    "4. SQL"
   ]
  },
  {
   "cell_type": "markdown",
   "id": "4c735796-2a57-417c-a741-55f303ebab6b",
   "metadata": {},
   "source": [
    "# Some of the commonly used libraries used by Data Scientists include:\n",
    "1. TensorFlow\n",
    "2. Pandas\n",
    "3. SciPy\n",
    "4. PyTorch"
   ]
  },
  {
   "cell_type": "markdown",
   "id": "fe02b098-0107-45b7-88c2-53114a0f1135",
   "metadata": {
    "tags": []
   },
   "source": [
    "# Data Science Tools\n",
    "| Data Science Tools |\n",
    "| -------------|\n",
    "| Gitlab |\n",
    "| R Studio |\n",
    "| TensorFlow |"
   ]
  },
  {
   "cell_type": "markdown",
   "id": "ef7fc34d-ed4e-4ba5-927b-622c570026c8",
   "metadata": {},
   "source": [
    "### Below are a few examples of evaluating arithmetic expressions in Python"
   ]
  },
  {
   "cell_type": "code",
   "execution_count": 1,
   "id": "016edd22-f9ec-4114-b8e9-3c65e1810636",
   "metadata": {},
   "outputs": [
    {
     "data": {
      "text/plain": [
       "17"
      ]
     },
     "execution_count": 1,
     "metadata": {},
     "output_type": "execute_result"
    }
   ],
   "source": [
    "(3*4)+5\n",
    "# This a simple arithmetic expression to mutiply then add integers"
   ]
  },
  {
   "cell_type": "code",
   "execution_count": 2,
   "id": "a7e31ba8-8858-456e-a24e-6adca4eace7e",
   "metadata": {},
   "outputs": [
    {
     "data": {
      "text/plain": [
       "3.3333333333333335"
      ]
     },
     "execution_count": 2,
     "metadata": {},
     "output_type": "execute_result"
    }
   ],
   "source": [
    "# This will convert 200 minutes to hours by diving by 60\n",
    "200/60"
   ]
  },
  {
   "cell_type": "markdown",
   "id": "7b43801b-9395-45cd-9df8-eb85008c321d",
   "metadata": {},
   "source": [
    "**Objectives:**\n",
    "1.  list data science languages\n",
    "2.  list data science libraries\n",
    "3.  Create a table of Data Science tools\n",
    "4.  Convert minutes to hours"
   ]
  },
  {
   "cell_type": "markdown",
   "id": "983d1e06-4129-4609-8641-6b36b2c90fb3",
   "metadata": {},
   "source": [
    "## Author\n",
    "Yo Douglas"
   ]
  }
 ],
 "metadata": {
  "kernelspec": {
   "display_name": "anaconda-2022.05-py39",
   "language": "python",
   "name": "conda-env-anaconda-2022.05-py39-py"
  },
  "language_info": {
   "codemirror_mode": {
    "name": "ipython",
    "version": 3
   },
   "file_extension": ".py",
   "mimetype": "text/x-python",
   "name": "python",
   "nbconvert_exporter": "python",
   "pygments_lexer": "ipython3",
   "version": "3.9.12"
  }
 },
 "nbformat": 4,
 "nbformat_minor": 5
}
